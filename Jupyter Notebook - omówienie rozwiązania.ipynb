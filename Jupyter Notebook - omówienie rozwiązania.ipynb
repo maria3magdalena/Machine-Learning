{
 "cells": [
  {
   "cell_type": "markdown",
   "metadata": {},
   "source": [
    "Do rozwiązania problemu zastosowano algorytm genetyczny. Pojedyncze rozwiązanie (genom) reprezentowane jest przez wektor (listę) wymiaru $n$ w nastepujący sposób: numer indeksu oznacza numer placu budowy, a liczba odpowiadająca $i$-temu indeksowi oznacza numer budynku przypisany do $i$-tego placu budowy. Do selekcji genomów zastosowano metodę selekcji turniejowej (niedeterministycznej - losujemy grupy w obrębie których następnie ustalamy ranking). Wprowadzano dodatkowo element strategii elitarnej: zachowywany jest najlepszy osobnik w populacji bieżącej (w postaci niezmienionej, niepoddawany procesom mutacji ani krzyżowania). Mutacje w obrebie populacji zachodzą w sposób losowy: losowane są osobniki (z zadanym prawdopoodbieństwen, którego domyślna wartość wynosi 0.5), które podlegają mutacji. Mutacja polega na wylosowaniu dwóch indeksów, które następnie są zamieniane (permutowane) ze sobą. \n",
    "Proces krzyżowania przebiega w następujacy sposob: losujemy dwa osobniki (i usuwamy je z listy zawierającej populację), a następnie losowany jest przedział (losujemy dwa indeksy, mniejszy z nich stanowi początek przedziału, a większy - koniec przedziału). W oparciu o wylosowany przedział tworzymy osobniki potomne według nastepującego schematu (obszar zaznaczony na zielono, to nasz wylosowany przedział):\n",
    "\n",
    "<img src = \"https://uploadfile.pl/pobierz/2242177---0gqx/schemat.png\" />\n"
   ]
  },
  {
   "cell_type": "code",
   "execution_count": 14,
   "metadata": {},
   "outputs": [],
   "source": [
    "import random\n",
    "import numpy as np\n",
    "\n",
    "class Puzzle:\n",
    " \n",
    " def __init__(self, filepath):\n",
    "             \n",
    "  file = open(filepath, \"r\")\n",
    "  #lines = file.split('\\n')\n",
    " \n",
    "  with open(filepath) as file:\n",
    "    lines = []\n",
    "    with open(filepath) as file:\n",
    "      lines = [line.rstrip() for line in file]\n",
    "\n",
    "\n",
    "  self.n = int(lines[0])\n",
    "  i=1\n",
    "  while(len(lines[i]) < self.n):\n",
    "        i=i+1\n",
    "       \n",
    "  self.A = [[int(x) for x in lines[i+j].split()] for j in range(self.n)]\n",
    "  \n",
    "  i=i + self.n\n",
    " \n",
    "  while(len(lines[i])<self.n):\n",
    "        i=i+1\n",
    "        \n",
    "  self.D = [[int(x) for x in lines[i+j].split()] for j in range(self.n)]\n",
    "  \n",
    "\n",
    "      \n",
    "class GeneticSolution:\n",
    "    \n",
    "#Pojedyncze osobniki sa reprezentowane przez macierze wymiaru nxn, takie, ze 1 wystepuje na wspolrzednej (i,j) \n",
    "#wtedy i tylko wtedy gdy na i-tym placu budowy stawiamy j-ty budynek\n",
    "    \n",
    "  def __init__(self, n_popul, puzzle):   #Tworzenie populacji poczatkowej\n",
    "      \n",
    "      self.n = puzzle.n\n",
    "      self.A = puzzle.A\n",
    "      self.D = puzzle.D\n",
    "      self.population = []\n",
    "      for p in range(n_popul):\n",
    "         x = list(range(self.n))\n",
    "         random.shuffle(x) \n",
    "         genom = x\n",
    "         self.population.append(genom)\n",
    "      self.numberpopul = n_popul\n",
    "        \n",
    "        \n",
    "\n",
    "  def CalculateTotalErrors(self):\n",
    "      Errors = []\n",
    "            \n",
    "      for genom in self.population:\n",
    "      \n",
    "          result = 0\n",
    "     \n",
    "          for i in range(self.n):\n",
    "              for j in range(self.n):\n",
    "                              \n",
    "                  result = result + self.A[int(genom[i])][int(genom[j])]*self.D[i][j]\n",
    "              \n",
    "          Errors.append(result)\n",
    "      return Errors\n",
    "            \n",
    "          \n",
    "           \n",
    "  def Selection (self, tournament_size):       #dokonuje ewaluacji osobnikow i selekcji\n",
    "      \n",
    "      fun_values = self.CalculateTotalErrors()     \n",
    "     \n",
    "      best_value =  min(fun_values)\n",
    "              \n",
    "      best_genom_ind = fun_values.index(best_value)\n",
    "      best_genom = self.population[best_genom_ind]\n",
    "      #wprowadzamy element strategii elitarnej: zachowujemy najlepszego osobnika w populacji biezacej\n",
    "    \n",
    "      newpopulation = []\n",
    "               \n",
    "      for i in range(self.numberpopul):  #dokonujemy selekcji metoda turniejowa\n",
    "          S = []\n",
    "          for j in range(tournament_size):\n",
    "              ind = int(random.random()*self.numberpopul)\n",
    "              S.append(ind)\n",
    "          ranking = [fun_values[ind] for ind in S]\n",
    "          winner_ind = S[ranking.index(min(ranking))]\n",
    "          newpopulation.append( self.population[winner_ind])\n",
    "         \n",
    "         \n",
    "      self.population = newpopulation\n",
    "             \n",
    "      return best_genom\n",
    "  \n",
    "  def Crossover(self):\n",
    "    \n",
    "    new_generation = []\n",
    "    for i in range(int(self.numberpopul/2)):\n",
    "       parents = []\n",
    "       rand_ind1 = int(random.random()*len(self.population))\n",
    "       parent1 = self.population[rand_ind1]\n",
    "       del self.population[rand_ind1]\n",
    "       parents.append(parent1)\n",
    "       rand_ind2 = int(random.random()*len(self.population))\n",
    "       parent2 = self.population[rand_ind2]\n",
    "       del self.population[rand_ind2]\n",
    "       parents.append(parent2)\n",
    "       pointa = int(random.random()*(self.n -2))\n",
    "       pointb = int(random.random()*(self.n -2))\n",
    "       while pointb==pointa:\n",
    "           pointb= int(random.random()*(self.n -2))\n",
    "       point1 = min(pointa, pointb)\n",
    "       point2 = max(pointa, pointb)\n",
    "       \n",
    "       offspring_a = np.zeros(self.n)\n",
    "       offspring_a[point1:point2] = parents[1][point1:point2]\n",
    "       already_used_genes = set(parents[1][point1:point2])\n",
    "       i = 0\n",
    "       p = 0\n",
    "       while i<point1 and p<self.n:\n",
    "           if parents[0][p] not in already_used_genes:\n",
    "               offspring_a[i] = parents[0][p]\n",
    "               already_used_genes.add(parents[0][p])\n",
    "               i+=1\n",
    "          \n",
    "           p+=1\n",
    "           \n",
    "       j = point2 + 1\n",
    "       while j<self.n and p<self.n:\n",
    "           if parents[0][p] not in already_used_genes:\n",
    "               offspring_a[j] = parents[0][p]\n",
    "               already_used_genes.add(parents[0][p])\n",
    "               j+=1\n",
    "           \n",
    "           p+=1\n",
    "      \n",
    "       new_generation.append(offspring_a)\n",
    "       \n",
    "           \n",
    "       offspring_b = np.zeros(self.n)\n",
    "       offspring_b[point1:point2] = parents[0][point1:point2]\n",
    "       already_used_genes = set(parents[0][point1:point2])\n",
    "       i = 0\n",
    "       p = 0\n",
    "       while i<point1 and p<self.n:\n",
    "           if parents[1][p] not in already_used_genes:\n",
    "               offspring_b[i] = parents[1][p]\n",
    "               already_used_genes.add(parents[1][p])\n",
    "               i+=1\n",
    "          \n",
    "           p+=1\n",
    "           \n",
    "       j = point2 + 1\n",
    "       while j<self.n and p<self.n:\n",
    "           if parents[1][p] not in already_used_genes:\n",
    "               offspring_b[j] = parents[1][p]\n",
    "               already_used_genes.add(parents[1][p])\n",
    "               j+=1\n",
    "           \n",
    "           p+=1\n",
    "       \n",
    "       new_generation.append(offspring_b)\n",
    "       \n",
    "       self.population = new_generation\n",
    "       self.numberpopul = len(new_generation)\n",
    "                   \n",
    "                   \n",
    "    \n",
    "  def Mutation( self, probability = 0.5):\n",
    "    \n",
    "    for i in range( self.numberpopul -1):\n",
    "       if random.random() < probability:\n",
    "              inds = random.choices(range(self.n), k=2)\n",
    "              mut = self.population[i]\n",
    "              pom = mut[inds[0]]\n",
    "              mut[inds[0]] = mut[inds[1]]\n",
    "              mut[inds[1]] = pom\n",
    "              self.population[i] = mut\n",
    "             \n",
    "                 \n",
    "             \n",
    "                           \n",
    "\n",
    "def Solve(filepath, n_popul, tournament_size, n_iter, mutation_probability = 0.5):\n",
    "    puzzle = Puzzle(filepath)\n",
    "    genetic = GeneticSolution(n_popul, puzzle)\n",
    "    \n",
    "    for i in range(n_iter):\n",
    "        \n",
    "       best_genom = genetic.Selection(tournament_size)\n",
    "       genetic.Crossover()\n",
    "       genetic.Mutation(mutation_probability)\n",
    "       genetic.population.append(best_genom)\n",
    "       genetic.numberpopul +=1\n",
    "       \n",
    "    func_values = genetic.CalculateTotalErrors()     \n",
    "    best_value =  min(func_values)\n",
    "    best_genom_ind = func_values.index(best_value)\n",
    "    best_genom = genetic.population[best_genom_ind]\n",
    "              \n",
    "    return best_genom, best_value\n",
    " "
   ]
  },
  {
   "cell_type": "code",
   "execution_count": 15,
   "metadata": {},
   "outputs": [
    {
     "data": {
      "text/plain": [
       "([7,\n",
       "  15,\n",
       "  31,\n",
       "  24,\n",
       "  29,\n",
       "  3,\n",
       "  23,\n",
       "  0,\n",
       "  4,\n",
       "  8,\n",
       "  16,\n",
       "  20,\n",
       "  30,\n",
       "  13,\n",
       "  25,\n",
       "  28,\n",
       "  5,\n",
       "  21,\n",
       "  10,\n",
       "  26,\n",
       "  11,\n",
       "  12,\n",
       "  19,\n",
       "  6,\n",
       "  14,\n",
       "  2,\n",
       "  1,\n",
       "  22,\n",
       "  18,\n",
       "  27,\n",
       "  17,\n",
       "  9],\n",
       " 24526)"
      ]
     },
     "execution_count": 15,
     "metadata": {},
     "output_type": "execute_result"
    }
   ],
   "source": [
    "Solve('task2.txt', 1000, 2, 100)\n"
   ]
  },
  {
   "cell_type": "code",
   "execution_count": 16,
   "metadata": {},
   "outputs": [
    {
     "data": {
      "text/plain": [
       "(array([11., 10., 13., 27., 21., 12.,  2., 30., 20.,  7., 15.,  3., 26.,\n",
       "         6.,  8.,  9., 23., 24.,  1., 31., 28., 16., 25., 29., 22.,  0.,\n",
       "         0.,  5., 17., 18., 19., 14.]),\n",
       " 22742)"
      ]
     },
     "execution_count": 16,
     "metadata": {},
     "output_type": "execute_result"
    }
   ],
   "source": [
    "Solve('task2.txt', 1000, 2, 1000)"
   ]
  },
  {
   "cell_type": "code",
   "execution_count": 23,
   "metadata": {},
   "outputs": [
    {
     "data": {
      "text/plain": [
       "([26,\n",
       "  17,\n",
       "  29,\n",
       "  30,\n",
       "  14,\n",
       "  5,\n",
       "  15,\n",
       "  13,\n",
       "  27,\n",
       "  3,\n",
       "  25,\n",
       "  24,\n",
       "  8,\n",
       "  9,\n",
       "  12,\n",
       "  31,\n",
       "  16,\n",
       "  7,\n",
       "  4,\n",
       "  28,\n",
       "  10,\n",
       "  2,\n",
       "  1,\n",
       "  20,\n",
       "  21,\n",
       "  19,\n",
       "  22,\n",
       "  6,\n",
       "  11,\n",
       "  18,\n",
       "  0,\n",
       "  23],\n",
       " 22912)"
      ]
     },
     "execution_count": 23,
     "metadata": {},
     "output_type": "execute_result"
    }
   ],
   "source": [
    "Solve('task2.txt', 100000, 2, 10000)\n"
   ]
  },
  {
   "cell_type": "code",
   "execution_count": 28,
   "metadata": {},
   "outputs": [
    {
     "data": {
      "text/plain": [
       "(array([16., 17., 18., 13., 11.,  8.,  4.,  1.,  9., 10.,  0.,  0.,  6.,\n",
       "        14.,  0.,  0.,  7., 15.,  5.]),\n",
       " 15892770)"
      ]
     },
     "execution_count": 28,
     "metadata": {},
     "output_type": "execute_result"
    }
   ],
   "source": [
    "Solve(\"newtask1\", 10000, 2, 10000)"
   ]
  },
  {
   "cell_type": "code",
   "execution_count": 29,
   "metadata": {},
   "outputs": [
    {
     "data": {
      "text/plain": [
       "(array([16., 17., 18.,  8., 11.,  5., 14.,  1., 12., 13.,  9.,  4.,  6.,\n",
       "         0.,  0.,  0.,  7.,  3., 15.]),\n",
       " 16920674)"
      ]
     },
     "execution_count": 29,
     "metadata": {},
     "output_type": "execute_result"
    }
   ],
   "source": [
    "Solve(\"newtask1\", 100000, 2, 10000)\n"
   ]
  },
  {
   "cell_type": "code",
   "execution_count": 31,
   "metadata": {},
   "outputs": [
    {
     "data": {
      "text/plain": [
       "(array([83., 26., 58., 56.,  8., 54., 28., 31., 37., 75., 15., 55., 33.,\n",
       "        60., 12., 17., 88., 44., 38., 20.,  1., 81.,  4., 66., 78., 62.,\n",
       "        77., 76., 41., 36., 87., 53., 14., 57., 22., 46., 47.,  5., 50.,\n",
       "        18., 71.,  7., 65., 69., 85., 21., 43., 52., 30., 61.,  3., 67.,\n",
       "        84., 80., 32., 24., 49., 74., 40.,  6., 25., 23., 72., 64., 89.,\n",
       "        10., 35., 82., 34., 79., 27., 63., 59.,  9., 51., 42., 45., 19.,\n",
       "         2., 86.,  0., 39., 16., 13., 29., 70., 68.,  0.,  0.,  0.]),\n",
       " 15843229)"
      ]
     },
     "execution_count": 31,
     "metadata": {},
     "output_type": "execute_result"
    }
   ],
   "source": [
    "Solve(\"ntask3\", 10000, 2, 10000)\n"
   ]
  },
  {
   "cell_type": "code",
   "execution_count": null,
   "metadata": {},
   "outputs": [],
   "source": []
  }
 ],
 "metadata": {
  "kernelspec": {
   "display_name": "Python 3",
   "language": "python",
   "name": "python3"
  },
  "language_info": {
   "codemirror_mode": {
    "name": "ipython",
    "version": 3
   },
   "file_extension": ".py",
   "mimetype": "text/x-python",
   "name": "python",
   "nbconvert_exporter": "python",
   "pygments_lexer": "ipython3",
   "version": "3.7.6"
  }
 },
 "nbformat": 4,
 "nbformat_minor": 4
}
